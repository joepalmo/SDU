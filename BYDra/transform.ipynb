{
 "cells": [
  {
   "cell_type": "code",
   "execution_count": 1,
   "metadata": {},
   "outputs": [],
   "source": [
    "import numpy as np\n",
    "import pandas as pd\n",
    "import astropy.units as u\n",
    "from astropy.coordinates import SkyCoord"
   ]
  },
  {
   "cell_type": "markdown",
   "metadata": {},
   "source": [
    "# Create a RA DEC text file in the right format"
   ]
  },
  {
   "cell_type": "code",
   "execution_count": 14,
   "metadata": {},
   "outputs": [],
   "source": [
    "df = pd.read_csv('simbadBYDraStars.tsv', sep='\\t', skiprows=7).drop([0,78]).reset_index(drop=True)"
   ]
  },
  {
   "cell_type": "code",
   "execution_count": 24,
   "metadata": {},
   "outputs": [],
   "source": [
    "hms = [r.split() for r in df['       coord1 (ICRS,J2000/2000)        ']]"
   ]
  },
  {
   "cell_type": "code",
   "execution_count": 45,
   "metadata": {},
   "outputs": [],
   "source": [
    "with open('BYDra.txt', 'w') as f:\n",
    "    for o in hms:\n",
    "        ra = \"{0}h{1}m{2}s\".format(o[0], o[1], o[2])\n",
    "        dec = \"{0}d{1}m{2}s\".format(o[3], o[4], o[5])\n",
    "\n",
    "        c = SkyCoord(ra, dec, frame='icrs')\n",
    "        \n",
    "        ra_deg = c.ra.deg\n",
    "        dec_deg = c.dec.deg\n",
    "\n",
    "        line = \"{0} \\t {1} \\t 1\".format(ra_deg, dec_deg)\n",
    "        f.write(line)\n",
    "        f.write('\\n')"
   ]
  },
  {
   "cell_type": "markdown",
   "metadata": {},
   "source": [
    "# Spectra\n",
    "\n",
    "Okay, I loaded spectra from the FAST SPECTRAL ARCHIVE using the ra and dec values that Paul got from his SIMBAD query. "
   ]
  },
  {
   "cell_type": "code",
   "execution_count": 9,
   "metadata": {},
   "outputs": [],
   "source": [
    "from astropy.table import Table\n",
    "from astropy.io import fits\n",
    "\n",
    "\n",
    "hdul = fits.open(\"0162.lspm3642.ms.fits\")\n",
    "hdul1 = fits.open(\"data.fits\")\n",
    "# data_table = Table.read(\"0162.lspm3642.ms.fits\")\n",
    "#data_table.write(“new_filename.csv”, format=“ascii.csv”, overwrite=True)"
   ]
  },
  {
   "cell_type": "code",
   "execution_count": 10,
   "metadata": {},
   "outputs": [
    {
     "name": "stdout",
     "output_type": "stream",
     "text": [
      "Filename: data.fits\n",
      "No.    Name      Ver    Type      Cards   Dimensions   Format\n",
      "  0  PRIMARY       1 PrimaryHDU       5   ()      \n",
      "  1                1 BinTableHDU    133   1R x 24C   [96A, 10A, K, 36A, 36A, 57A, 19A, 19A, 10A, 1A, 13A, 6A, E, 2D, E, 2D, E, D, E, E, E, E, E, J]   \n"
     ]
    }
   ],
   "source": [
    "hdul1.info()"
   ]
  },
  {
   "cell_type": "code",
   "execution_count": 14,
   "metadata": {},
   "outputs": [
    {
     "data": {
      "text/plain": [
       "XTENSION= 'BINTABLE'           / binary table extension                         \n",
       "BITPIX  =                    8 / array data type                                \n",
       "NAXIS   =                    2 / number of array dimensions                     \n",
       "NAXIS1  =                  387 / length of dimension 1                          \n",
       "NAXIS2  =                    1 / length of dimension 2                          \n",
       "PCOUNT  =                    0 / number of group parameters                     \n",
       "GCOUNT  =                    1 / number of groups                               \n",
       "TFIELDS =                   24 / number of table fields                         \n",
       "TTYPE1  = 'accref  '           / Access key for the data                        \n",
       "TFORM1  = '96A     '                                                            \n",
       "TTYPE2  = 'mime    '           / MIME type of the file served                   \n",
       "TFORM2  = '10A     '                                                            \n",
       "TTYPE3  = 'accsize '           / Size of the data in bytes                      \n",
       "TFORM3  = 'K       '                                                            \n",
       "TUNIT3  = 'byte    '                                                            \n",
       "TNULL3  =                   -1                                                  \n",
       "TTYPE4  = 'ssa_dstitle'        / A compact and descriptive designation of the da\n",
       "TFORM4  = '36A     '                                                            \n",
       "TTYPE5  = 'ssa_creatorDID'     / Dataset identifier assigned by the creator     \n",
       "TFORM5  = '36A     '                                                            \n",
       "TTYPE6  = 'ssa_pubDID'         / Dataset identifier assigned by the publisher   \n",
       "TFORM6  = '57A     '                                                            \n",
       "TTYPE7  = 'ssa_cdate'          / Processing/Creation date                       \n",
       "TFORM7  = '19A     '                                                            \n",
       "TTYPE8  = 'ssa_pdate'          / Date last published.                           \n",
       "TFORM8  = '19A     '                                                            \n",
       "TTYPE9  = 'ssa_bandpass'       / Bandpass (i.e., rough spectral location) of thi\n",
       "TFORM9  = '10A     '                                                            \n",
       "TTYPE10 = 'ssa_cversion'       / Creator assigned version for this dataset (will\n",
       "TFORM10 = '1A      '                                                            \n",
       "TTYPE11 = 'ssa_targname'       / Common name of object observed.                \n",
       "TFORM11 = '13A     '                                                            \n",
       "TTYPE12 = 'ssa_targclass'      / Object class (star, QSO,...; use Simbad object \n",
       "TFORM12 = '6A      '                                                            \n",
       "TTYPE13 = 'ssa_redshift'       / Redshift of target object                      \n",
       "TFORM13 = 'E       '                                                            \n",
       "TTYPE14 = 'ssa_targetpos'      / Equatorial (ICRS) position of the target object\n",
       "TFORM14 = '2D      '                                                            \n",
       "TTYPE15 = 'ssa_snr '           / Signal-to-noise ratio estimated for this datase\n",
       "TFORM15 = 'E       '                                                            \n",
       "TTYPE16 = 'ssa_location'       / ICRS location of aperture center               \n",
       "TFORM16 = '2D      '                                                            \n",
       "TUNIT16 = 'deg     '                                                            \n",
       "TTYPE17 = 'ssa_aperture'       / Angular diameter of aperture                   \n",
       "TFORM17 = 'E       '                                                            \n",
       "TUNIT17 = 'deg     '                                                            \n",
       "TTYPE18 = 'ssa_dateObs'        / Midpoint of exposure                           \n",
       "TFORM18 = 'D       '                                                            \n",
       "TUNIT18 = 'd       '                                                            \n",
       "TTYPE19 = 'ssa_timeExt'        / Exposure duration                              \n",
       "TFORM19 = 'E       '                                                            \n",
       "TUNIT19 = 's       '                                                            \n",
       "TTYPE20 = 'ssa_specmid'        / Midpoint of region covered in this dataset     \n",
       "TFORM20 = 'E       '                                                            \n",
       "TUNIT20 = 'm       '                                                            \n",
       "TTYPE21 = 'ssa_specext'        / Width of the spectrum                          \n",
       "TFORM21 = 'E       '                                                            \n",
       "TUNIT21 = 'm       '                                                            \n",
       "TTYPE22 = 'ssa_specstart'      / Lower value of spectral coordinate             \n",
       "TFORM22 = 'E       '                                                            \n",
       "TUNIT22 = 'm       '                                                            \n",
       "TTYPE23 = 'ssa_specend'        / Upper value of spectral coordinate             \n",
       "TFORM23 = 'E       '                                                            \n",
       "TUNIT23 = 'm       '                                                            \n",
       "TTYPE24 = 'ssa_length'         / Number of points in the spectrum               \n",
       "TFORM24 = 'J       '                                                            \n",
       "TNULL24 =                   -1                                                  \n",
       "TUTYP1  = 'ssa:access.reference'                                                \n",
       "TUTYP2  = 'ssa:access.format'                                                   \n",
       "TUTYP3  = 'ssa:access.size'                                                     \n",
       "TUTYP4  = 'ssa:dataid.title'                                                    \n",
       "TUTYP5  = 'ssa:dataid.creatordid'                                               \n",
       "TUTYP6  = 'ssa:curation.publisherdid'                                           \n",
       "TUTYP7  = 'ssa:dataid.date'                                                     \n",
       "TUTYP8  = 'ssa:curation.date'                                                   \n",
       "TUTYP9  = 'ssa:dataid.bandpass'                                                 \n",
       "TUTYP10 = 'ssa:dataid.version'                                                  \n",
       "TUTYP11 = 'ssa:target.name'                                                     \n",
       "TUTYP12 = 'ssa:target.class'                                                    \n",
       "TUTYP13 = 'ssa:target.redshift'                                                 \n",
       "TUTYP14 = 'ssa:target.pos.spoint'                                               \n",
       "TUTYP15 = 'ssa:derived.snr'                                                     \n",
       "TUTYP16 = 'ssa:char.spatialaxis.coverage.location.value'                        \n",
       "TUTYP17 = 'ssa:char.spatialaxis.coverage.bounds.extent'                         \n",
       "TUTYP18 = 'ssa:char.timeaxis.coverage.location.value'                           \n",
       "TUTYP19 = 'ssa:char.timeaxis.coverage.bounds.extent'                            \n",
       "TUTYP20 = 'ssa:char.spectralaxis.coverage.location.value'                       \n",
       "TUTYP21 = 'ssa:char.spectralaxis.coverage.bounds.extent'                        \n",
       "TUTYP22 = 'ssa:char.spectralaxis.coverage.bounds.start'                         \n",
       "TUTYP23 = 'ssa:char.spectralaxis.coverage.bounds.stop'                          \n",
       "TUTYP24 = 'ssa:dataset.length'                                                  \n",
       "TCOMM1  = 'Access key for the data'                                             \n",
       "TCOMM2  = 'MIME type of the file served'                                        \n",
       "TCOMM3  = 'Size of the data in bytes'                                           \n",
       "TCOMM4  = 'A compact and descriptive designation of the dataset.'               \n",
       "TCOMM5  = 'Dataset identifier assigned by the creator'                          \n",
       "TCOMM6  = 'Dataset identifier assigned by the publisher'                        \n",
       "TCOMM7  = 'Processing/Creation date'                                            \n",
       "TCOMM8  = 'Date last published.'                                                \n",
       "TCOMM9  = 'Bandpass (i.e., rough spectral location) of this dataset; this &'    \n",
       "CONTINUE  'should be th= e most appropriate term from the values of &'          \n",
       "CONTINUE  'VODataService vs:Waveband.'                                          \n",
       "TCOMM10 = 'Creator assigned version for this dataset (will be incremented &'    \n",
       "CONTINUE  'when this pa= rticular item is changed).'                            \n",
       "TCOMM11 = 'Common name of object observed.'                                     \n",
       "TCOMM12 = 'Object class (star, QSO,...; use Simbad object classification &'     \n",
       "CONTINUE  'http://simbad= .u-strasbg.fr/simbad/sim-display?data=3Dotypes if &'  \n",
       "CONTINUE  'at all possible)'                                                    \n",
       "TCOMM13 = 'Redshift of target object'                                           \n",
       "TCOMM14 = 'Equatorial (ICRS) position of the target object.'                    \n",
       "TCOMM15 = 'Signal-to-noise ratio estimated for this dataset'                    \n",
       "TCOMM16 = 'ICRS location of aperture center'                                    \n",
       "TCOMM17 = 'Angular diameter of aperture'                                        \n",
       "TCOMM18 = 'Midpoint of exposure'                                                \n",
       "TCOMM19 = 'Exposure duration'                                                   \n",
       "TCOMM20 = 'Midpoint of region covered in this dataset'                          \n",
       "TCOMM21 = 'Width of the spectrum'                                               \n",
       "TCOMM22 = 'Lower value of spectral coordinate'                                  \n",
       "TCOMM23 = 'Upper value of spectral coordinate'                                  \n",
       "TCOMM24 = 'Number of points in the spectrum'                                    \n",
       "HIERARCH ssa_model = 'Spectrum-1.0' / Data model name and version               \n",
       "HIERARCH ssa_csysName = 'ICRS    ' / System RA and Dec are given in             \n",
       "HIERARCH ssa_timeSI = 's       ' / Time conversion factor in Osuna-Salgado conve\n",
       "HIERARCH ssa_spectralSI = '1E-10 L ' / Spectral conversion factor in Osuna-Salga\n",
       "HIERARCH ssa_spectralucd = 'em.wl   ' / UCD of the spectral column in the spectr\n",
       "HIERARCH ssa_spectralunit = '0.1 nm  ' / Unit of the spectral column            \n",
       "HIERARCH ssa_fluxSI = '1E7 MT-3L-1' / Flux/magnitude conversion factor in Osuna-\n",
       "HIERARCH ssa_fluxucd = 'phot.flux.density' / UCD of the flux column             \n",
       "HIERARCH ssa_fluxunit = '' / Unit of the flux column                            \n",
       "HIERARCH ssa_dstype = 'Spectrum' / Type of data (spectrum, time series, etc)    \n",
       "HIERARCH ssa_publisher = 'ivo://cfa.tdc' / Publisher of the datasets included he\n",
       "HIERARCH ssa_instrument = 'FAST    ' / Instrument or code used to produce these \n",
       "HIERARCH ssa_datasource = 'pointed ' / Method of generation for the data (one of\n",
       "HIERARCH ssa_creationtype = 'archival' / Process used to produce the data (archi\n",
       "HIERARCH ssa_reference = '1998PASP..1100..79F' / URL or bibcode of a publication\n",
       "HIERARCH ssa_fluxcalib = 'UNCALIBRATED' / Type of flux calibration (ABSOLUTE, CA\n",
       "HIERARCH ssa_speccalib = 'ABSOLUTE' / Type of wavelength calibration            \n",
       "HIERARCH ssa_specres = 2000.0 / Resolution on the spectral axis                 "
      ]
     },
     "execution_count": 14,
     "metadata": {},
     "output_type": "execute_result"
    }
   ],
   "source": [
    "hdul1[1].header"
   ]
  },
  {
   "cell_type": "code",
   "execution_count": null,
   "metadata": {},
   "outputs": [],
   "source": []
  }
 ],
 "metadata": {
  "interpreter": {
   "hash": "5f3979f5fb0a7cd5351c468c5e75b120f91fe672b656705a2b0b002be69a10a3"
  },
  "kernelspec": {
   "display_name": "Python 3.6.13 64-bit ('base': conda)",
   "name": "python3"
  },
  "language_info": {
   "codemirror_mode": {
    "name": "ipython",
    "version": 3
   },
   "file_extension": ".py",
   "mimetype": "text/x-python",
   "name": "python",
   "nbconvert_exporter": "python",
   "pygments_lexer": "ipython3",
   "version": "3.6.13"
  },
  "orig_nbformat": 4
 },
 "nbformat": 4,
 "nbformat_minor": 2
}
