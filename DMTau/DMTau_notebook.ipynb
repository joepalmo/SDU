{
 "cells": [
  {
   "cell_type": "code",
   "execution_count": 1,
   "source": [
    "from astropy.io import fits\n",
    "from astropy.table import Table\n",
    "from astropy.modeling import models\n",
    "from astropy import units as u\n",
    "import astropy.constants as const\n",
    "from astropy.nddata import StdDevUncertainty\n",
    "from astropy.visualization import quantity_support\n",
    "quantity_support()\n",
    "\n",
    "from specutils.analysis import snr, correlation, equivalent_width, template_logwl_resample\n",
    "from specutils.manipulation import box_smooth, gaussian_smooth, trapezoid_smooth, extract_region\n",
    "from specutils.spectra import Spectrum1D, SpectralRegion, SpectrumCollection\n",
    "from specutils.fitting import fit_generic_continuum, find_lines_derivative, fit_lines\n",
    "\n",
    "import matplotlib.pyplot as plt"
   ],
   "outputs": [],
   "metadata": {}
  },
  {
   "cell_type": "code",
   "execution_count": 2,
   "source": [
    "from astropy.utils.data import download_file\n",
    "from specutils.io.registers import identify_spectrum_format"
   ],
   "outputs": [],
   "metadata": {}
  },
  {
   "cell_type": "code",
   "execution_count": 18,
   "source": [
    "identify_spectrum_format(\"DMTau.ms.fits\")  "
   ],
   "outputs": [
    {
     "output_type": "execute_result",
     "data": {
      "text/plain": [
       "'iraf'"
      ]
     },
     "metadata": {},
     "execution_count": 18
    }
   ],
   "metadata": {}
  },
  {
   "cell_type": "code",
   "execution_count": 20,
   "source": [
    "# spec1d = Spectrum1D.read(\"DMTau.ms.fits\", format='iraf')"
   ],
   "outputs": [],
   "metadata": {}
  },
  {
   "cell_type": "code",
   "execution_count": 21,
   "source": [
    "spec = fits.open(\"DMTau.ms.fits\")"
   ],
   "outputs": [],
   "metadata": {}
  },
  {
   "cell_type": "code",
   "execution_count": 22,
   "source": [
    "spec.info()"
   ],
   "outputs": [
    {
     "output_type": "stream",
     "name": "stdout",
     "text": [
      "Filename: DMTau.ms.fits\n",
      "No.    Name      Ver    Type      Cards   Dimensions   Format\n",
      "  0  PRIMARY       1 PrimaryHDU     127   (2635, 1, 4)   float32   \n"
     ]
    }
   ],
   "metadata": {}
  },
  {
   "cell_type": "code",
   "execution_count": 23,
   "source": [
    "spec[0].data"
   ],
   "outputs": [
    {
     "output_type": "execute_result",
     "data": {
      "text/plain": [
       "array([[[  13.719798,   39.366127,   41.712444, ..., 1029.3982  ,\n",
       "         1020.24023 , 1004.793   ]],\n",
       "\n",
       "       [[  11.391471,   38.794266,   46.14159 , ..., 1063.1091  ,\n",
       "         1058.7313  , 1009.6136  ]],\n",
       "\n",
       "       [[  49.715057,   22.789574,   37.07408 , ...,  770.23895 ,\n",
       "          708.54004 ,  730.06934 ]],\n",
       "\n",
       "       [[  16.629381,   16.75232 ,   17.088804, ...,   38.347363,\n",
       "           37.822395,   37.784668]]], dtype=float32)"
      ]
     },
     "metadata": {},
     "execution_count": 23
    }
   ],
   "metadata": {}
  },
  {
   "cell_type": "code",
   "execution_count": null,
   "source": [],
   "outputs": [],
   "metadata": {}
  },
  {
   "cell_type": "code",
   "execution_count": 14,
   "source": [
    "# with fits.open(\"DMTau.ms.fits\") as hdul:  # open a FITS file\n",
    "#     data = hdul[1].data  # assume the first extension is an image"
   ],
   "outputs": [],
   "metadata": {}
  },
  {
   "cell_type": "code",
   "execution_count": 15,
   "source": [
    "data = spec[0].data"
   ],
   "outputs": [],
   "metadata": {}
  },
  {
   "cell_type": "code",
   "execution_count": 48,
   "source": [
    "wavelength = 1.47105300426483 *data[2,0] + 3615.14379882812 \n",
    "flux = data[3,0]\n"
   ],
   "outputs": [],
   "metadata": {}
  },
  {
   "cell_type": "code",
   "execution_count": 49,
   "source": [
    "plt.plot(wavelength, flux)"
   ],
   "outputs": [
    {
     "output_type": "execute_result",
     "data": {
      "text/plain": [
       "[<matplotlib.lines.Line2D at 0x7fa982359b70>]"
      ]
     },
     "metadata": {},
     "execution_count": 49
    },
    {
     "output_type": "display_data",
     "data": {
      "image/png": "[encoded data removed]",
      "text/plain": [
       "<Figure size 432x288 with 1 Axes>"
      ]
     },
     "metadata": {
      "needs_background": "light"
     }
    }
   ],
   "metadata": {}
  },
  {
   "cell_type": "code",
   "execution_count": 83,
   "source": [
    "def SDSSfitsSpec_to_Table(specFilename):\n",
    "    spec = fits.open(f\"{specFilename}.fits\")\n",
    "    wavelength = 10.0**spec[1].data['loglam']\n",
    "    flux = spec[1].data['flux']\n",
    "    error = np.sqrt(1.0 / spec[1].data['ivar'])\n",
    "\n",
    "    spec_Table = Table()\n",
    "    spec_Table.add_column(wavelength, name=\"wavelength\")\n",
    "    spec_Table.add_column(flux, name=\"flux\")\n",
    "    spec_Table.add_column(error, name=\"error\")\n",
    "\n",
    "    return spec_Table"
   ],
   "outputs": [],
   "metadata": {}
  },
  {
   "cell_type": "code",
   "execution_count": null,
   "source": [],
   "outputs": [],
   "metadata": {}
  }
 ],
 "metadata": {
  "orig_nbformat": 4,
  "language_info": {
   "name": "python",
   "version": "3.6.13",
   "mimetype": "text/x-python",
   "codemirror_mode": {
    "name": "ipython",
    "version": 3
   },
   "pygments_lexer": "ipython3",
   "nbconvert_exporter": "python",
   "file_extension": ".py"
  },
  "kernelspec": {
   "name": "python3",
   "display_name": "Python 3.6.13 64-bit ('base': conda)"
  },
  "interpreter": {
   "hash": "3fcd17afe4e1c93c45609941eb8b202e6033b149f0385ed99e357bbaf34cd4c8"
  }
 },
 "nbformat": 4,
 "nbformat_minor": 2
}