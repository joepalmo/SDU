{
 "cells": [
  {
   "cell_type": "code",
   "execution_count": 1,
   "source": [
    "import pandas as pd\n",
    "import numpy as np\n",
    "import math\n",
    "import datetime as dt\n",
    "import matplotlib.pyplot as plt\n",
    "from astropy.io import ascii\n",
    "import os\n",
    "\n",
    "# open source module found for converting MJD/JD to DateTimes\n",
    "import jdutil as jd\n",
    "\n",
    "# Ben's module -- THANKS BEN\n",
    "import LCtools\n",
    "\n",
    "# my preprocessing module\n",
    "from preproc import *\n",
    "\n",
    "import glob\n"
   ],
   "outputs": [],
   "metadata": {}
  },
  {
   "cell_type": "code",
   "execution_count": 2,
   "source": [
    "lc_path = \"proxima/ProxCen_LC.csv\"\n",
    "spec_path = \"proxima/ProxCen_spec.csv\"\n",
    "\n",
    "n = \"ProxCen\"\n",
    "\n",
    "resample_len = '4h'"
   ],
   "outputs": [],
   "metadata": {}
  },
  {
   "cell_type": "code",
   "execution_count": 3,
   "source": [
    "#load into pandas dataframes\n",
    "lc = pd.read_csv(lc_path)\n",
    "spec = pd.read_csv(spec_path)\n",
    "\n",
    "time_preproc_lc = LC_timesort_preproc(lc, resample_len=resample_len)\n",
    "preproc_spec = spectra_preproc(spec, bins=wavelength_bins())\n",
    "\n",
    "#create output directory\n",
    "outdir = 'preproc/{}/'.format(n)\n",
    "if not os.path.exists(outdir):\n",
    "    os.makedirs(outdir)    \n",
    "\n",
    "#save preprocessed files\n",
    "time_preproc_lc.to_csv(\"preproc/{}/{}_LC_timesort.csv\".format(n,n), index=False)\n",
    "preproc_spec.to_csv(\"preproc/{}/{}_spec.csv\".format(n,n), index=False)"
   ],
   "outputs": [],
   "metadata": {}
  },
  {
   "cell_type": "code",
   "execution_count": null,
   "source": [],
   "outputs": [],
   "metadata": {}
  }
 ],
 "metadata": {
  "orig_nbformat": 4,
  "language_info": {
   "name": "python",
   "version": "3.6.13",
   "mimetype": "text/x-python",
   "codemirror_mode": {
    "name": "ipython",
    "version": 3
   },
   "pygments_lexer": "ipython3",
   "nbconvert_exporter": "python",
   "file_extension": ".py"
  },
  "kernelspec": {
   "name": "python3",
   "display_name": "Python 3.6.13 64-bit ('base': conda)"
  },
  "interpreter": {
   "hash": "3fcd17afe4e1c93c45609941eb8b202e6033b149f0385ed99e357bbaf34cd4c8"
  }
 },
 "nbformat": 4,
 "nbformat_minor": 2
}