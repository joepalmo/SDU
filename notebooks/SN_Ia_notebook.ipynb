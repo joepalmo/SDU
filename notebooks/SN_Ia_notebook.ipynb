{
 "cells": [
  {
   "cell_type": "code",
   "execution_count": 1,
   "metadata": {},
   "outputs": [
    {
     "name": "stdout",
     "output_type": "stream",
     "text": [
      "/Users/joepalmo/Desktop/cfa/SDU-preproc\n"
     ]
    }
   ],
   "source": [
    "cd ../"
   ]
  },
  {
   "cell_type": "code",
   "execution_count": 2,
   "metadata": {},
   "outputs": [],
   "source": [
    "import pandas as pd\n",
    "import numpy as np\n",
    "import math\n",
    "import datetime as dt\n",
    "import matplotlib.pyplot as plt\n",
    "from astropy.io import ascii\n",
    "import os\n",
    "\n",
    "# open source module found for converting MJD/JD to DateTimes\n",
    "import jdutil as jd\n",
    "\n",
    "# Ben's module -- THANKS BEN\n",
    "import LCtools\n",
    "\n",
    "# my preprocessing module\n",
    "from preproc import *\n",
    "\n",
    "import glob"
   ]
  },
  {
   "cell_type": "code",
   "execution_count": 3,
   "metadata": {},
   "outputs": [],
   "source": [
    "# specify path to the lightcurve and spectrum\n",
    "lc_path = \"supernovae/SN2011fe/SN2011fe_LC\"\n",
    "spec_path = \"supernovae/SN2011fe/SN2011fe_spec_+1\"\n",
    "\n",
    "# object name (or abbreviation)\n",
    "n = \"SN_Ia\"\n",
    "\n",
    "# resample length for time-sorted LC purposes\n",
    "resample_len = '1d'"
   ]
  },
  {
   "cell_type": "markdown",
   "metadata": {},
   "source": [
    "# LC Data Munging"
   ]
  },
  {
   "cell_type": "code",
   "execution_count": 4,
   "metadata": {},
   "outputs": [],
   "source": [
    "# read in the text file\n",
    "lc = pd.read_csv(lc_path, sep = \",\")\n",
    "# choose only V-band measurements\n",
    "lc = lc[lc['band']=='V']\n",
    "# remove upper limits\n",
    "lc = lc[lc['upperlimit']=='F']\n",
    "# choose only the source that we want ------ SHOULD WE DO THIS?\n",
    "# listed as source #18 on the website -- Munari et al. https://ui.adsabs.harvard.edu/abs/2013NewA...20...30M/abstract\n",
    "lc = lc[lc['source']=='2013NewA...20...30M']\n",
    "# choose columns and rename\n",
    "lc = lc[['time', 'magnitude']].rename(columns={'time':'mjd', 'magnitude':'mag'})"
   ]
  },
  {
   "cell_type": "code",
   "execution_count": 5,
   "metadata": {},
   "outputs": [
    {
     "data": {
      "image/png": "[encoded data removed]",
      "text/plain": [
       "<Figure size 432x288 with 1 Axes>"
      ]
     },
     "metadata": {
      "needs_background": "light"
     },
     "output_type": "display_data"
    }
   ],
   "source": [
    "#raw data\n",
    "plt.scatter(lc['mjd'], lc['mag'])\n",
    "plt.gca().invert_yaxis()"
   ]
  },
  {
   "cell_type": "code",
   "execution_count": 6,
   "metadata": {},
   "outputs": [
    {
     "data": {
      "image/png": "[encoded data removed]",
      "text/plain": [
       "<Figure size 432x288 with 1 Axes>"
      ]
     },
     "metadata": {
      "needs_background": "light"
     },
     "output_type": "display_data"
    }
   ],
   "source": [
    "#resampled data\n",
    "time_preproc_lc = LC_timesort_preproc(lc, resample_len=resample_len)\n",
    "plt.scatter(time_preproc_lc['Modified Julian Day'], time_preproc_lc['Magnitude'])\n",
    "plt.gca().invert_yaxis()"
   ]
  },
  {
   "cell_type": "code",
   "execution_count": 7,
   "metadata": {},
   "outputs": [
    {
     "data": {
      "text/plain": [
       "343"
      ]
     },
     "execution_count": 7,
     "metadata": {},
     "output_type": "execute_result"
    }
   ],
   "source": [
    "# number of days video covers\n",
    "len(time_preproc_lc)"
   ]
  },
  {
   "cell_type": "code",
   "execution_count": 8,
   "metadata": {},
   "outputs": [
    {
     "name": "stdout",
     "output_type": "stream",
     "text": [
      "Estimated video time of 40.35294117647059 s\n"
     ]
    }
   ],
   "source": [
    "# The average data play rate determined empirically from sonoUno is about \n",
    "# 8.5 data rows played per second. Therefore:\n",
    "print(\"Estimated video time of \"+ str(len(time_preproc_lc) / 8.5), \"s\")"
   ]
  },
  {
   "cell_type": "markdown",
   "metadata": {},
   "source": [
    "# Spectra Data Munging"
   ]
  },
  {
   "cell_type": "code",
   "execution_count": 14,
   "metadata": {},
   "outputs": [
    {
     "data": {
      "text/html": [
       "<div>\n",
       "<style scoped>\n",
       "    .dataframe tbody tr th:only-of-type {\n",
       "        vertical-align: middle;\n",
       "    }\n",
       "\n",
       "    .dataframe tbody tr th {\n",
       "        vertical-align: top;\n",
       "    }\n",
       "\n",
       "    .dataframe thead th {\n",
       "        text-align: right;\n",
       "    }\n",
       "</style>\n",
       "<table border=\"1\" class=\"dataframe\">\n",
       "  <thead>\n",
       "    <tr style=\"text-align: right;\">\n",
       "      <th></th>\n",
       "      <th>mjd</th>\n",
       "      <th>mag</th>\n",
       "    </tr>\n",
       "    <tr>\n",
       "      <th>timestamp</th>\n",
       "      <th></th>\n",
       "      <th></th>\n",
       "    </tr>\n",
       "  </thead>\n",
       "  <tbody>\n",
       "    <tr>\n",
       "      <th>2011-08-25 21:23:45.599992</th>\n",
       "      <td>55798.8915</td>\n",
       "      <td>14.033</td>\n",
       "    </tr>\n",
       "    <tr>\n",
       "      <th>2011-08-27 20:03:41.759985</th>\n",
       "      <td>55800.8359</td>\n",
       "      <td>12.704</td>\n",
       "    </tr>\n",
       "    <tr>\n",
       "      <th>2011-08-28 19:45:24.479999</th>\n",
       "      <td>55801.8232</td>\n",
       "      <td>12.265</td>\n",
       "    </tr>\n",
       "    <tr>\n",
       "      <th>2011-08-29 19:38:29.760019</th>\n",
       "      <td>55802.8184</td>\n",
       "      <td>11.791</td>\n",
       "    </tr>\n",
       "    <tr>\n",
       "      <th>2011-08-29 19:47:08.159983</th>\n",
       "      <td>55802.8244</td>\n",
       "      <td>11.682</td>\n",
       "    </tr>\n",
       "    <tr>\n",
       "      <th>...</th>\n",
       "      <td>...</td>\n",
       "      <td>...</td>\n",
       "    </tr>\n",
       "    <tr>\n",
       "      <th>2012-07-05 20:55:06.240016</th>\n",
       "      <td>56113.8716</td>\n",
       "      <td>16.968</td>\n",
       "    </tr>\n",
       "    <tr>\n",
       "      <th>2012-07-17 22:05:31.200001</th>\n",
       "      <td>56125.9205</td>\n",
       "      <td>17.045</td>\n",
       "    </tr>\n",
       "    <tr>\n",
       "      <th>2012-07-27 23:07:00.480010</th>\n",
       "      <td>56135.9632</td>\n",
       "      <td>17.319</td>\n",
       "    </tr>\n",
       "    <tr>\n",
       "      <th>2012-07-31 20:25:17.759997</th>\n",
       "      <td>56139.8509</td>\n",
       "      <td>17.218</td>\n",
       "    </tr>\n",
       "    <tr>\n",
       "      <th>2012-08-01 21:42:28.800015</th>\n",
       "      <td>56140.9045</td>\n",
       "      <td>17.440</td>\n",
       "    </tr>\n",
       "  </tbody>\n",
       "</table>\n",
       "<p>236 rows × 2 columns</p>\n",
       "</div>"
      ],
      "text/plain": [
       "                                   mjd     mag\n",
       "timestamp                                     \n",
       "2011-08-25 21:23:45.599992  55798.8915  14.033\n",
       "2011-08-27 20:03:41.759985  55800.8359  12.704\n",
       "2011-08-28 19:45:24.479999  55801.8232  12.265\n",
       "2011-08-29 19:38:29.760019  55802.8184  11.791\n",
       "2011-08-29 19:47:08.159983  55802.8244  11.682\n",
       "...                                ...     ...\n",
       "2012-07-05 20:55:06.240016  56113.8716  16.968\n",
       "2012-07-17 22:05:31.200001  56125.9205  17.045\n",
       "2012-07-27 23:07:00.480010  56135.9632  17.319\n",
       "2012-07-31 20:25:17.759997  56139.8509  17.218\n",
       "2012-08-01 21:42:28.800015  56140.9045  17.440\n",
       "\n",
       "[236 rows x 2 columns]"
      ]
     },
     "execution_count": 14,
     "metadata": {},
     "output_type": "execute_result"
    }
   ],
   "source": [
    "lc"
   ]
  },
  {
   "cell_type": "code",
   "execution_count": 16,
   "metadata": {},
   "outputs": [
    {
     "data": {
      "text/plain": [
       "timestamp\n",
       "2011-09-09 18:42:54.720012    55813.7798\n",
       "Name: mjd, dtype: float64"
      ]
     },
     "execution_count": 16,
     "metadata": {},
     "output_type": "execute_result"
    }
   ],
   "source": [
    "# Time of peak ->\n",
    "lc[lc['mag']==lc.mag.min()]['mjd']"
   ]
  },
  {
   "cell_type": "code",
   "execution_count": 17,
   "metadata": {},
   "outputs": [],
   "source": [
    "# Download the spectrum closest to this date from this paper:\n",
    "# https://ui.adsabs.harvard.edu/abs/2013A%26A...554A..27P/abstract\n",
    "\n",
    "# specify path to the spectrum\n",
    "spec_path = \"supernovae/SN2011fe/SN2011fe_spec_+7\"\n",
    "# read in the text file\n",
    "spec = pd.read_csv(spec_path, sep = \",\")\n",
    "# choose columns and rename\n",
    "spec = spec[['wavelength', 'flux']]"
   ]
  },
  {
   "cell_type": "code",
   "execution_count": 18,
   "metadata": {},
   "outputs": [
    {
     "data": {
      "image/png": "[encoded data removed]",
      "text/plain": [
       "<Figure size 432x288 with 1 Axes>"
      ]
     },
     "metadata": {
      "needs_background": "light"
     },
     "output_type": "display_data"
    }
   ],
   "source": [
    "#raw data\n",
    "from matplotlib.collections import LineCollection\n",
    "from matplotlib.colors import ListedColormap, BoundaryNorm\n",
    "fig, ax = plt.subplots()\n",
    "x,y = spec['wavelength'], spec['flux']\n",
    "ax.set_xlim(x.min(), x.max())\n",
    "ax.set_ylim(y.min(), y.max())\n",
    "points = np.array([x, y]).T.reshape(-1, 1, 2)\n",
    "segments = np.concatenate([points[:-1], points[1:]], axis=1)\n",
    "# Create a continuous norm to map from data points to colors\n",
    "norm = plt.Normalize(x.min(), x.max())\n",
    "lc = LineCollection(segments, cmap='rainbow', norm=norm)\n",
    "lc.set_array(x)\n",
    "ax.add_collection(lc)\n",
    "ax.set_title('Spectrum')\n",
    "plt.show()"
   ]
  },
  {
   "cell_type": "code",
   "execution_count": 28,
   "metadata": {},
   "outputs": [],
   "source": [
    "preproc_spec = spectra_preproc(spec, bins=wavelength_bins())"
   ]
  },
  {
   "cell_type": "code",
   "execution_count": 29,
   "metadata": {},
   "outputs": [],
   "source": [
    "# rescale to remove scientific notation\n",
    "preproc_spec['Flux'] = preproc_spec['Flux'] * 1e12"
   ]
  },
  {
   "cell_type": "code",
   "execution_count": 30,
   "metadata": {},
   "outputs": [
    {
     "data": {
      "image/png": "[encoded data removed]",
      "text/plain": [
       "<Figure size 432x288 with 1 Axes>"
      ]
     },
     "metadata": {
      "needs_background": "light"
     },
     "output_type": "display_data"
    }
   ],
   "source": [
    "#preprocessed\n",
    "from matplotlib.collections import LineCollection\n",
    "from matplotlib.colors import ListedColormap, BoundaryNorm\n",
    "fig, ax = plt.subplots()\n",
    "x,y = preproc_spec['Wavelength'], preproc_spec['Flux']\n",
    "ax.set_xlim(3700, 7300)\n",
    "ax.set_ylim(np.nanmin(y)-0.5*np.nanstd(y), np.nanmax(y)+0.5*np.nanstd(y))\n",
    "points = np.array([x, y]).T.reshape(-1, 1, 2)\n",
    "segments = np.concatenate([points[:-1], points[1:]], axis=1)\n",
    "# Create a continuous norm to map from data points to colors\n",
    "norm = plt.Normalize(x.min(), x.max())\n",
    "lc = LineCollection(segments, cmap='rainbow', norm=norm)\n",
    "lc.set_array(x)\n",
    "ax.add_collection(lc)\n",
    "ax.set_title('Spectrum')\n",
    "plt.show()"
   ]
  },
  {
   "cell_type": "markdown",
   "metadata": {},
   "source": [
    "# Export Preprocessed Files"
   ]
  },
  {
   "cell_type": "code",
   "execution_count": 31,
   "metadata": {},
   "outputs": [],
   "source": [
    "#create output directory\n",
    "outdir = 'preproc/{}/'.format(n)\n",
    "if not os.path.exists(outdir):\n",
    "    os.makedirs(outdir)   "
   ]
  },
  {
   "cell_type": "code",
   "execution_count": 32,
   "metadata": {},
   "outputs": [],
   "source": [
    "#save preprocessed files\n",
    "time_preproc_lc.to_csv(\"preproc/{}/{}_LC_timesort.csv\".format(n,n), index=False)\n",
    "preproc_spec.to_csv(\"preproc/{}/{}_spec.csv\".format(n,n), index=False)"
   ]
  },
  {
   "cell_type": "code",
   "execution_count": null,
   "metadata": {},
   "outputs": [],
   "source": []
  }
 ],
 "metadata": {
  "interpreter": {
   "hash": "5f3979f5fb0a7cd5351c468c5e75b120f91fe672b656705a2b0b002be69a10a3"
  },
  "kernelspec": {
   "display_name": "Python 3.6.13 64-bit ('base': conda)",
   "name": "python3"
  },
  "language_info": {
   "codemirror_mode": {
    "name": "ipython",
    "version": 3
   },
   "file_extension": ".py",
   "mimetype": "text/x-python",
   "name": "python",
   "nbconvert_exporter": "python",
   "pygments_lexer": "ipython3",
   "version": "3.6.13"
  },
  "orig_nbformat": 4
 },
 "nbformat": 4,
 "nbformat_minor": 2
}
