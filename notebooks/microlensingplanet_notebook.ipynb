{
 "cells": [
  {
   "cell_type": "code",
   "execution_count": 1,
   "metadata": {},
   "outputs": [
    {
     "name": "stdout",
     "output_type": "stream",
     "text": [
      "/Users/joepalmo/Desktop/cfa/SDU-preproc\n"
     ]
    }
   ],
   "source": [
    "cd ../"
   ]
  },
  {
   "cell_type": "code",
   "execution_count": 2,
   "metadata": {},
   "outputs": [],
   "source": [
    "import pandas as pd\n",
    "import numpy as np\n",
    "import math\n",
    "import datetime as dt\n",
    "import matplotlib.pyplot as plt\n",
    "from astropy.io import ascii\n",
    "from astropy.io import fits\n",
    "from astropy.table import Table\n",
    "import os\n",
    "\n",
    "# open source module found for converting MJD/JD to DateTimes\n",
    "import jdutil as jd\n",
    "\n",
    "# Ben's module -- THANKS BEN\n",
    "import LCtools\n",
    "\n",
    "# my preprocessing module\n",
    "from preproc import *\n",
    "\n",
    "import glob"
   ]
  },
  {
   "cell_type": "code",
   "execution_count": 3,
   "metadata": {},
   "outputs": [],
   "source": [
    "# specify path to the lightcurve\n",
    "lc_path = \"microlensing/ogle-2011-blg-0265-planet/phot.dat\"\n",
    "\n",
    "# object name (or abbreviation)\n",
    "n = \"microlensing_planet\"\n",
    "\n",
    "# resample length for time-sorted LC purposes\n",
    "resample_len = '16h'"
   ]
  },
  {
   "cell_type": "markdown",
   "metadata": {},
   "source": [
    "# LC Data Munging"
   ]
  },
  {
   "cell_type": "code",
   "execution_count": 4,
   "metadata": {},
   "outputs": [],
   "source": [
    "lc = pd.read_csv(lc_path, \n",
    "                 sep=\"\\s+\",  \n",
    "                 usecols=[0,1], \n",
    "                 names=['hjd', 'mag', 'magerr', '1', '2'])"
   ]
  },
  {
   "cell_type": "code",
   "execution_count": 5,
   "metadata": {},
   "outputs": [
    {
     "data": {
      "text/html": [
       "<div>\n",
       "<style scoped>\n",
       "    .dataframe tbody tr th:only-of-type {\n",
       "        vertical-align: middle;\n",
       "    }\n",
       "\n",
       "    .dataframe tbody tr th {\n",
       "        vertical-align: top;\n",
       "    }\n",
       "\n",
       "    .dataframe thead th {\n",
       "        text-align: right;\n",
       "    }\n",
       "</style>\n",
       "<table border=\"1\" class=\"dataframe\">\n",
       "  <thead>\n",
       "    <tr style=\"text-align: right;\">\n",
       "      <th></th>\n",
       "      <th>hjd</th>\n",
       "      <th>mag</th>\n",
       "    </tr>\n",
       "  </thead>\n",
       "  <tbody>\n",
       "    <tr>\n",
       "      <th>0</th>\n",
       "      <td>2.455261e+06</td>\n",
       "      <td>17.291</td>\n",
       "    </tr>\n",
       "    <tr>\n",
       "      <th>1</th>\n",
       "      <td>2.455261e+06</td>\n",
       "      <td>17.255</td>\n",
       "    </tr>\n",
       "    <tr>\n",
       "      <th>2</th>\n",
       "      <td>2.455262e+06</td>\n",
       "      <td>17.251</td>\n",
       "    </tr>\n",
       "    <tr>\n",
       "      <th>3</th>\n",
       "      <td>2.455265e+06</td>\n",
       "      <td>17.281</td>\n",
       "    </tr>\n",
       "    <tr>\n",
       "      <th>4</th>\n",
       "      <td>2.455266e+06</td>\n",
       "      <td>17.270</td>\n",
       "    </tr>\n",
       "  </tbody>\n",
       "</table>\n",
       "</div>"
      ],
      "text/plain": [
       "            hjd     mag\n",
       "0  2.455261e+06  17.291\n",
       "1  2.455261e+06  17.255\n",
       "2  2.455262e+06  17.251\n",
       "3  2.455265e+06  17.281\n",
       "4  2.455266e+06  17.270"
      ]
     },
     "execution_count": 5,
     "metadata": {},
     "output_type": "execute_result"
    }
   ],
   "source": [
    "lc.head()"
   ]
  },
  {
   "cell_type": "code",
   "execution_count": 6,
   "metadata": {},
   "outputs": [],
   "source": [
    "lc['mjd'] = jd.jd_to_mjd(lc['hjd'])"
   ]
  },
  {
   "cell_type": "code",
   "execution_count": 7,
   "metadata": {},
   "outputs": [
    {
     "data": {
      "image/png": "[encoded data removed]",
      "text/plain": [
       "<Figure size 432x288 with 1 Axes>"
      ]
     },
     "metadata": {
      "needs_background": "light"
     },
     "output_type": "display_data"
    }
   ],
   "source": [
    "#raw data\n",
    "plt.scatter(lc['mjd'], lc['mag'])\n",
    "plt.gca().invert_yaxis()"
   ]
  },
  {
   "cell_type": "code",
   "execution_count": 9,
   "metadata": {},
   "outputs": [
    {
     "data": {
      "image/png": "[encoded data removed]",
      "text/plain": [
       "<Figure size 432x288 with 1 Axes>"
      ]
     },
     "metadata": {
      "needs_background": "light"
     },
     "output_type": "display_data"
    }
   ],
   "source": [
    "# #resampled data\n",
    "# lc.rename(columns={'hjd':'mjd'}, inplace=True)\n",
    "time_preproc_lc = LC_timesort_preproc(lc, resample_len=resample_len)\n",
    "time_preproc_lc_final = time_preproc_lc[time_preproc_lc['Modified Julian Day'].between(55680, 55820)]\n",
    "plt.scatter(time_preproc_lc_final['Modified Julian Day'], time_preproc_lc_final['Magnitude'])\n",
    "plt.gca().invert_yaxis()"
   ]
  },
  {
   "cell_type": "code",
   "execution_count": 10,
   "metadata": {},
   "outputs": [
    {
     "data": {
      "text/plain": [
       "211"
      ]
     },
     "execution_count": 10,
     "metadata": {},
     "output_type": "execute_result"
    }
   ],
   "source": [
    "#number of days video covers\n",
    "len(time_preproc_lc_final)"
   ]
  },
  {
   "cell_type": "code",
   "execution_count": 11,
   "metadata": {},
   "outputs": [
    {
     "name": "stdout",
     "output_type": "stream",
     "text": [
      "Estimated video time of 24.823529411764707 s\n"
     ]
    }
   ],
   "source": [
    "# The average data play rate determined empirically from sonoUno is about \n",
    "# 8.5 data rows played per second. Therefore:\n",
    "print(\"Estimated video time of \"+ str(len(time_preproc_lc_final) / 8.5), \"s\")"
   ]
  },
  {
   "cell_type": "markdown",
   "metadata": {},
   "source": [
    "# Export Preprocessed Files"
   ]
  },
  {
   "cell_type": "code",
   "execution_count": 12,
   "metadata": {},
   "outputs": [],
   "source": [
    "#create output directory\n",
    "outdir = 'preproc/{}/'.format(n)\n",
    "if not os.path.exists(outdir):\n",
    "    os.makedirs(outdir)   "
   ]
  },
  {
   "cell_type": "code",
   "execution_count": 13,
   "metadata": {},
   "outputs": [],
   "source": [
    "#save preprocessed files\n",
    "time_preproc_lc_final.to_csv(\"preproc/{}/{}_LC_timesort.csv\".format(n,n), index=False)"
   ]
  },
  {
   "cell_type": "code",
   "execution_count": null,
   "metadata": {},
   "outputs": [],
   "source": []
  }
 ],
 "metadata": {
  "interpreter": {
   "hash": "5f3979f5fb0a7cd5351c468c5e75b120f91fe672b656705a2b0b002be69a10a3"
  },
  "kernelspec": {
   "display_name": "Python 3.6.13 64-bit ('base': conda)",
   "name": "python3"
  },
  "language_info": {
   "codemirror_mode": {
    "name": "ipython",
    "version": 3
   },
   "file_extension": ".py",
   "mimetype": "text/x-python",
   "name": "python",
   "nbconvert_exporter": "python",
   "pygments_lexer": "ipython3",
   "version": "3.6.13"
  },
  "orig_nbformat": 4
 },
 "nbformat": 4,
 "nbformat_minor": 2
}
