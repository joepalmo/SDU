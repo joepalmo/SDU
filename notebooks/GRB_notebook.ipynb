{
 "cells": [
  {
   "cell_type": "code",
   "execution_count": 3,
   "metadata": {},
   "outputs": [
    {
     "name": "stdout",
     "output_type": "stream",
     "text": [
      "/Users/joepalmo/Desktop/cfa/SDU-preproc\n"
     ]
    }
   ],
   "source": [
    "cd /Users/joepalmo/Desktop/cfa/SDU-preproc"
   ]
  },
  {
   "cell_type": "code",
   "execution_count": 4,
   "metadata": {},
   "outputs": [],
   "source": [
    "import pandas as pd\n",
    "import numpy as np\n",
    "import math\n",
    "import datetime as dt\n",
    "import matplotlib.pyplot as plt\n",
    "from astropy.io import ascii\n",
    "import os\n",
    "\n",
    "# open source module found for converting MJD/JD to DateTimes\n",
    "import jdutil as jd\n",
    "\n",
    "# Ben's module -- THANKS BEN\n",
    "import LCtools\n",
    "\n",
    "# my preprocessing module\n",
    "from preproc import *\n",
    "\n",
    "import glob\n"
   ]
  },
  {
   "cell_type": "code",
   "execution_count": 5,
   "metadata": {},
   "outputs": [],
   "source": [
    "# specify path to the lightcurve and spectrum\n",
    "lc_path = \"GRB/GRB161023A_LightCurve.txt\"\n",
    "spec_path = \"GRB/GRB161023A_spec2AA.txt\"\n",
    "\n",
    "# object name (or abbreviation)\n",
    "n = \"GRB\"\n",
    "\n",
    "# resample length for time-sorted LC purposes\n",
    "resample_len = '1min'"
   ]
  },
  {
   "cell_type": "markdown",
   "metadata": {},
   "source": [
    "# Time Sorted Light Curve"
   ]
  },
  {
   "cell_type": "code",
   "execution_count": 6,
   "metadata": {},
   "outputs": [],
   "source": [
    "#load into pandas dataframes\n",
    "lc = pd.read_csv(lc_path, delimiter='\\t', skiprows=1, names=['DaysPostTrigger', 'JulianDay', 'magRc', 'err_magRc'])"
   ]
  },
  {
   "cell_type": "code",
   "execution_count": 7,
   "metadata": {},
   "outputs": [],
   "source": [
    "lc['mjd'] = jd.jd_to_mjd(lc['JulianDay'])"
   ]
  },
  {
   "cell_type": "code",
   "execution_count": 8,
   "metadata": {},
   "outputs": [
    {
     "data": {
      "text/html": [
       "<div>\n",
       "<style scoped>\n",
       "    .dataframe tbody tr th:only-of-type {\n",
       "        vertical-align: middle;\n",
       "    }\n",
       "\n",
       "    .dataframe tbody tr th {\n",
       "        vertical-align: top;\n",
       "    }\n",
       "\n",
       "    .dataframe thead th {\n",
       "        text-align: right;\n",
       "    }\n",
       "</style>\n",
       "<table border=\"1\" class=\"dataframe\">\n",
       "  <thead>\n",
       "    <tr style=\"text-align: right;\">\n",
       "      <th></th>\n",
       "      <th>DaysPostTrigger</th>\n",
       "      <th>JulianDay</th>\n",
       "      <th>magRc</th>\n",
       "      <th>err_magRc</th>\n",
       "      <th>mjd</th>\n",
       "    </tr>\n",
       "  </thead>\n",
       "  <tbody>\n",
       "    <tr>\n",
       "      <th>0</th>\n",
       "      <td>0.000534</td>\n",
       "      <td>2.457685e+06</td>\n",
       "      <td>15.736</td>\n",
       "      <td>0.027</td>\n",
       "      <td>57684.944184</td>\n",
       "    </tr>\n",
       "    <tr>\n",
       "      <th>1</th>\n",
       "      <td>0.000609</td>\n",
       "      <td>2.457685e+06</td>\n",
       "      <td>14.534</td>\n",
       "      <td>0.028</td>\n",
       "      <td>57684.944259</td>\n",
       "    </tr>\n",
       "    <tr>\n",
       "      <th>2</th>\n",
       "      <td>0.000689</td>\n",
       "      <td>2.457685e+06</td>\n",
       "      <td>16.039</td>\n",
       "      <td>0.039</td>\n",
       "      <td>57684.944339</td>\n",
       "    </tr>\n",
       "    <tr>\n",
       "      <th>3</th>\n",
       "      <td>0.000764</td>\n",
       "      <td>2.457685e+06</td>\n",
       "      <td>15.646</td>\n",
       "      <td>0.035</td>\n",
       "      <td>57684.944414</td>\n",
       "    </tr>\n",
       "    <tr>\n",
       "      <th>4</th>\n",
       "      <td>0.000878</td>\n",
       "      <td>2.457685e+06</td>\n",
       "      <td>15.942</td>\n",
       "      <td>0.031</td>\n",
       "      <td>57684.944528</td>\n",
       "    </tr>\n",
       "    <tr>\n",
       "      <th>...</th>\n",
       "      <td>...</td>\n",
       "      <td>...</td>\n",
       "      <td>...</td>\n",
       "      <td>...</td>\n",
       "      <td>...</td>\n",
       "    </tr>\n",
       "    <tr>\n",
       "      <th>187</th>\n",
       "      <td>5.467250</td>\n",
       "      <td>2.457691e+06</td>\n",
       "      <td>21.969</td>\n",
       "      <td>0.180</td>\n",
       "      <td>57690.410900</td>\n",
       "    </tr>\n",
       "    <tr>\n",
       "      <th>188</th>\n",
       "      <td>6.082950</td>\n",
       "      <td>2.457692e+06</td>\n",
       "      <td>22.080</td>\n",
       "      <td>0.050</td>\n",
       "      <td>57691.026600</td>\n",
       "    </tr>\n",
       "    <tr>\n",
       "      <th>189</th>\n",
       "      <td>6.082950</td>\n",
       "      <td>2.457692e+06</td>\n",
       "      <td>22.064</td>\n",
       "      <td>0.050</td>\n",
       "      <td>57691.026600</td>\n",
       "    </tr>\n",
       "    <tr>\n",
       "      <th>190</th>\n",
       "      <td>6.082950</td>\n",
       "      <td>2.457692e+06</td>\n",
       "      <td>22.067</td>\n",
       "      <td>0.090</td>\n",
       "      <td>57691.026600</td>\n",
       "    </tr>\n",
       "    <tr>\n",
       "      <th>191</th>\n",
       "      <td>14.099330</td>\n",
       "      <td>2.457700e+06</td>\n",
       "      <td>24.134</td>\n",
       "      <td>0.230</td>\n",
       "      <td>57699.042980</td>\n",
       "    </tr>\n",
       "  </tbody>\n",
       "</table>\n",
       "<p>192 rows × 5 columns</p>\n",
       "</div>"
      ],
      "text/plain": [
       "     DaysPostTrigger     JulianDay   magRc  err_magRc           mjd\n",
       "0           0.000534  2.457685e+06  15.736      0.027  57684.944184\n",
       "1           0.000609  2.457685e+06  14.534      0.028  57684.944259\n",
       "2           0.000689  2.457685e+06  16.039      0.039  57684.944339\n",
       "3           0.000764  2.457685e+06  15.646      0.035  57684.944414\n",
       "4           0.000878  2.457685e+06  15.942      0.031  57684.944528\n",
       "..               ...           ...     ...        ...           ...\n",
       "187         5.467250  2.457691e+06  21.969      0.180  57690.410900\n",
       "188         6.082950  2.457692e+06  22.080      0.050  57691.026600\n",
       "189         6.082950  2.457692e+06  22.064      0.050  57691.026600\n",
       "190         6.082950  2.457692e+06  22.067      0.090  57691.026600\n",
       "191        14.099330  2.457700e+06  24.134      0.230  57699.042980\n",
       "\n",
       "[192 rows x 5 columns]"
      ]
     },
     "execution_count": 8,
     "metadata": {},
     "output_type": "execute_result"
    }
   ],
   "source": [
    "lc"
   ]
  },
  {
   "cell_type": "code",
   "execution_count": 9,
   "metadata": {},
   "outputs": [],
   "source": [
    "lc['logDaysPostTrigger'] = np.log10(lc['DaysPostTrigger'])"
   ]
  },
  {
   "cell_type": "code",
   "execution_count": 10,
   "metadata": {},
   "outputs": [
    {
     "data": {
      "image/png": "[encoded data removed]",
      "text/plain": [
       "<Figure size 432x288 with 1 Axes>"
      ]
     },
     "metadata": {
      "needs_background": "light"
     },
     "output_type": "display_data"
    }
   ],
   "source": [
    "plt.scatter(lc['DaysPostTrigger'], lc['magRc'])\n",
    "plt.xscale('log')\n",
    "plt.gca().invert_yaxis()"
   ]
  },
  {
   "cell_type": "code",
   "execution_count": 11,
   "metadata": {},
   "outputs": [],
   "source": [
    "def format_df1(arr, bins, rephased):\n",
    "    \"\"\"\n",
    "    Function used to format phased LC data into a pandas df that can be input into sonoUno. This means\n",
    "    binning, averaging, and extending x-axis across 2 phases.\n",
    "    \"\"\"\n",
    "    # bin by phase -> 100 points\n",
    "    s, edges, _ = binned_statistic(arr[:,0],arr[:,1], statistic='mean', bins=bins)\n",
    "    bincenters = edges[:-1]+np.diff(edges)/2\n",
    "    \n",
    "    #to df - name columns\n",
    "    new_arr = np.vstack((bincenters, s)).T\n",
    "    df = pd.DataFrame(new_arr, columns = ['Phase', 'Magnitude'])\n",
    "\n",
    "    if rephased is True:\n",
    "        rephase = df[df.Phase.between(0.505, 1.495)]['Magnitude'].to_numpy()\n",
    "        rephase = np.append(rephase, rephase)\n",
    "        rephase_arr = np.vstack((bincenters, rephase)).T\n",
    "        rephase_df = pd.DataFrame(rephase_arr, columns=['Phase', 'Magnitude'])\n",
    "\n",
    "        return rephase_df\n",
    "    \n",
    "    return df\n"
   ]
  },
  {
   "cell_type": "code",
   "execution_count": 12,
   "metadata": {},
   "outputs": [],
   "source": [
    "log_arr = np.vstack((lc['logDaysPostTrigger'], lc['magRc'])).T"
   ]
  },
  {
   "cell_type": "code",
   "execution_count": 13,
   "metadata": {},
   "outputs": [],
   "source": [
    "logbins = np.arange(-3.25,1.2,0.02)"
   ]
  },
  {
   "cell_type": "code",
   "execution_count": 14,
   "metadata": {},
   "outputs": [],
   "source": [
    "time_preproc_lc = format_df1(log_arr, logbins, False).rename(columns={'Phase':'logDaysPostTrigger'})"
   ]
  },
  {
   "cell_type": "code",
   "execution_count": 15,
   "metadata": {},
   "outputs": [
    {
     "data": {
      "image/png": "[encoded data removed]",
      "text/plain": [
       "<Figure size 432x288 with 1 Axes>"
      ]
     },
     "metadata": {
      "needs_background": "light"
     },
     "output_type": "display_data"
    }
   ],
   "source": [
    "plt.scatter(time_preproc_lc['logDaysPostTrigger'], time_preproc_lc['Magnitude'])\n",
    "plt.gca().invert_yaxis()"
   ]
  },
  {
   "cell_type": "code",
   "execution_count": 16,
   "metadata": {},
   "outputs": [],
   "source": [
    "time_preproc_lc['DaysPostTrigger'] = 10 ** time_preproc_lc['logDaysPostTrigger']"
   ]
  },
  {
   "cell_type": "code",
   "execution_count": 17,
   "metadata": {},
   "outputs": [
    {
     "data": {
      "text/plain": [
       "222"
      ]
     },
     "execution_count": 17,
     "metadata": {},
     "output_type": "execute_result"
    }
   ],
   "source": [
    "len(time_preproc_lc)"
   ]
  },
  {
   "cell_type": "code",
   "execution_count": 18,
   "metadata": {},
   "outputs": [
    {
     "data": {
      "text/plain": [
       "77"
      ]
     },
     "execution_count": 18,
     "metadata": {},
     "output_type": "execute_result"
    }
   ],
   "source": [
    "len(time_preproc_lc.dropna())"
   ]
  },
  {
   "cell_type": "code",
   "execution_count": 19,
   "metadata": {},
   "outputs": [
    {
     "name": "stdout",
     "output_type": "stream",
     "text": [
      "Estimated video time of 26.11764705882353 s\n"
     ]
    }
   ],
   "source": [
    "# The average data play rate determined empirically from sonoUno is about \n",
    "# 8.5 data rows played per second. Therefore:\n",
    "print(\"Estimated video time of \"+ str(len(time_preproc_lc) / 8.5), \"s\")"
   ]
  },
  {
   "cell_type": "markdown",
   "metadata": {},
   "source": [
    "# Spectra"
   ]
  },
  {
   "cell_type": "code",
   "execution_count": 20,
   "metadata": {},
   "outputs": [],
   "source": [
    "spec = pd.read_csv(spec_path, delimiter='\\s+')"
   ]
  },
  {
   "cell_type": "code",
   "execution_count": 21,
   "metadata": {},
   "outputs": [
    {
     "data": {
      "text/html": [
       "<div>\n",
       "<style scoped>\n",
       "    .dataframe tbody tr th:only-of-type {\n",
       "        vertical-align: middle;\n",
       "    }\n",
       "\n",
       "    .dataframe tbody tr th {\n",
       "        vertical-align: top;\n",
       "    }\n",
       "\n",
       "    .dataframe thead th {\n",
       "        text-align: right;\n",
       "    }\n",
       "</style>\n",
       "<table border=\"1\" class=\"dataframe\">\n",
       "  <thead>\n",
       "    <tr style=\"text-align: right;\">\n",
       "      <th></th>\n",
       "      <th>wavelength</th>\n",
       "      <th>flux</th>\n",
       "    </tr>\n",
       "  </thead>\n",
       "  <tbody>\n",
       "    <tr>\n",
       "      <th>0</th>\n",
       "      <td>3200.0</td>\n",
       "      <td>0.358719</td>\n",
       "    </tr>\n",
       "    <tr>\n",
       "      <th>1</th>\n",
       "      <td>3202.0</td>\n",
       "      <td>0.088948</td>\n",
       "    </tr>\n",
       "    <tr>\n",
       "      <th>2</th>\n",
       "      <td>3204.0</td>\n",
       "      <td>0.049704</td>\n",
       "    </tr>\n",
       "    <tr>\n",
       "      <th>3</th>\n",
       "      <td>3206.0</td>\n",
       "      <td>-0.186613</td>\n",
       "    </tr>\n",
       "    <tr>\n",
       "      <th>4</th>\n",
       "      <td>3208.0</td>\n",
       "      <td>-0.347598</td>\n",
       "    </tr>\n",
       "    <tr>\n",
       "      <th>...</th>\n",
       "      <td>...</td>\n",
       "      <td>...</td>\n",
       "    </tr>\n",
       "    <tr>\n",
       "      <th>8895</th>\n",
       "      <td>20990.0</td>\n",
       "      <td>0.161854</td>\n",
       "    </tr>\n",
       "    <tr>\n",
       "      <th>8896</th>\n",
       "      <td>20992.0</td>\n",
       "      <td>0.247326</td>\n",
       "    </tr>\n",
       "    <tr>\n",
       "      <th>8897</th>\n",
       "      <td>20994.0</td>\n",
       "      <td>0.277530</td>\n",
       "    </tr>\n",
       "    <tr>\n",
       "      <th>8898</th>\n",
       "      <td>20996.0</td>\n",
       "      <td>0.134004</td>\n",
       "    </tr>\n",
       "    <tr>\n",
       "      <th>8899</th>\n",
       "      <td>20998.0</td>\n",
       "      <td>0.186661</td>\n",
       "    </tr>\n",
       "  </tbody>\n",
       "</table>\n",
       "<p>8900 rows × 2 columns</p>\n",
       "</div>"
      ],
      "text/plain": [
       "      wavelength      flux\n",
       "0         3200.0  0.358719\n",
       "1         3202.0  0.088948\n",
       "2         3204.0  0.049704\n",
       "3         3206.0 -0.186613\n",
       "4         3208.0 -0.347598\n",
       "...          ...       ...\n",
       "8895     20990.0  0.161854\n",
       "8896     20992.0  0.247326\n",
       "8897     20994.0  0.277530\n",
       "8898     20996.0  0.134004\n",
       "8899     20998.0  0.186661\n",
       "\n",
       "[8900 rows x 2 columns]"
      ]
     },
     "execution_count": 21,
     "metadata": {},
     "output_type": "execute_result"
    }
   ],
   "source": [
    "spec"
   ]
  },
  {
   "cell_type": "code",
   "execution_count": 22,
   "metadata": {},
   "outputs": [],
   "source": [
    "preproc_spec = spectra_preproc(spec, bins=np.arange(4440,6610,10))"
   ]
  },
  {
   "cell_type": "code",
   "execution_count": 23,
   "metadata": {},
   "outputs": [
    {
     "data": {
      "image/png": "[encoded data removed]",
      "text/plain": [
       "<Figure size 840x600 with 1 Axes>"
      ]
     },
     "metadata": {},
     "output_type": "display_data"
    }
   ],
   "source": [
    "fig2 = plot_spectra(spec, preproc_spec)"
   ]
  },
  {
   "cell_type": "code",
   "execution_count": 24,
   "metadata": {},
   "outputs": [
    {
     "data": {
      "text/plain": [
       "25.41176470588235"
      ]
     },
     "execution_count": 24,
     "metadata": {},
     "output_type": "execute_result"
    }
   ],
   "source": [
    "len(preproc_spec) / 8.5"
   ]
  },
  {
   "cell_type": "markdown",
   "metadata": {},
   "source": [
    "# Save Preprocessed Files"
   ]
  },
  {
   "cell_type": "code",
   "execution_count": 25,
   "metadata": {},
   "outputs": [],
   "source": [
    "#create output directory\n",
    "outdir = 'preproc/{}/'.format(n)\n",
    "if not os.path.exists(outdir):\n",
    "    os.makedirs(outdir)   "
   ]
  },
  {
   "cell_type": "code",
   "execution_count": 26,
   "metadata": {},
   "outputs": [],
   "source": [
    "#save preprocessed files\n",
    "time_preproc_lc.to_csv(\"preproc/{}/{}_LC_timesort.csv\".format(n,n), index=False)\n",
    "preproc_spec.to_csv(\"preproc/{}/{}_spec.csv\".format(n,n), index=False)"
   ]
  },
  {
   "cell_type": "code",
   "execution_count": null,
   "metadata": {},
   "outputs": [],
   "source": []
  }
 ],
 "metadata": {
  "interpreter": {
   "hash": "5f3979f5fb0a7cd5351c468c5e75b120f91fe672b656705a2b0b002be69a10a3"
  },
  "kernelspec": {
   "display_name": "Python 3.6.13 64-bit ('base': conda)",
   "name": "python3"
  },
  "language_info": {
   "codemirror_mode": {
    "name": "ipython",
    "version": 3
   },
   "file_extension": ".py",
   "mimetype": "text/x-python",
   "name": "python",
   "nbconvert_exporter": "python",
   "pygments_lexer": "ipython3",
   "version": "3.6.13"
  },
  "orig_nbformat": 4
 },
 "nbformat": 4,
 "nbformat_minor": 2
}
