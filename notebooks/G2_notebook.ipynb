{
 "cells": [
  {
   "cell_type": "code",
   "execution_count": 1,
   "metadata": {},
   "outputs": [
    {
     "name": "stdout",
     "output_type": "stream",
     "text": [
      "/Users/joepalmo/Desktop/cfa/SDU-preproc\n"
     ]
    }
   ],
   "source": [
    "cd ../"
   ]
  },
  {
   "cell_type": "code",
   "execution_count": 2,
   "metadata": {},
   "outputs": [],
   "source": [
    "import pandas as pd\n",
    "import numpy as np\n",
    "import math\n",
    "import datetime as dt\n",
    "import matplotlib.pyplot as plt\n",
    "from astropy.io import ascii\n",
    "from astropy.io import fits\n",
    "from astropy.table import Table\n",
    "import os\n",
    "\n",
    "# open source module found for converting MJD/JD to DateTimes\n",
    "import jdutil as jd\n",
    "\n",
    "# Ben's module -- THANKS BEN\n",
    "import LCtools\n",
    "\n",
    "# my preprocessing module\n",
    "from preproc import *\n",
    "\n",
    "import glob"
   ]
  },
  {
   "cell_type": "code",
   "execution_count": 3,
   "metadata": {},
   "outputs": [],
   "source": [
    "# specify path to the spectrum\n",
    "spec_path = \"G2_dwarf/G2_+0.0_Dwarf.csv\"\n",
    "\n",
    "# object name (or abbreviation)\n",
    "n = \"G2_dwarf\""
   ]
  },
  {
   "cell_type": "code",
   "execution_count": 7,
   "metadata": {},
   "outputs": [],
   "source": [
    "spec = pd.read_csv(spec_path, delimiter=' ', names=[\"wavelength\",\"flux\"])"
   ]
  },
  {
   "cell_type": "code",
   "execution_count": 12,
   "metadata": {},
   "outputs": [
    {
     "data": {
      "text/html": [
       "<div>\n",
       "<style scoped>\n",
       "    .dataframe tbody tr th:only-of-type {\n",
       "        vertical-align: middle;\n",
       "    }\n",
       "\n",
       "    .dataframe tbody tr th {\n",
       "        vertical-align: top;\n",
       "    }\n",
       "\n",
       "    .dataframe thead th {\n",
       "        text-align: right;\n",
       "    }\n",
       "</style>\n",
       "<table border=\"1\" class=\"dataframe\">\n",
       "  <thead>\n",
       "    <tr style=\"text-align: right;\">\n",
       "      <th></th>\n",
       "      <th>wavelength</th>\n",
       "      <th>flux</th>\n",
       "    </tr>\n",
       "  </thead>\n",
       "  <tbody>\n",
       "    <tr>\n",
       "      <th>0</th>\n",
       "      <td>3650.049561</td>\n",
       "      <td>1.114537</td>\n",
       "    </tr>\n",
       "    <tr>\n",
       "      <th>1</th>\n",
       "      <td>3650.109863</td>\n",
       "      <td>1.114537</td>\n",
       "    </tr>\n",
       "    <tr>\n",
       "      <th>2</th>\n",
       "      <td>3650.171875</td>\n",
       "      <td>1.114537</td>\n",
       "    </tr>\n",
       "    <tr>\n",
       "      <th>3</th>\n",
       "      <td>3650.231934</td>\n",
       "      <td>1.105282</td>\n",
       "    </tr>\n",
       "    <tr>\n",
       "      <th>4</th>\n",
       "      <td>3650.292236</td>\n",
       "      <td>1.096027</td>\n",
       "    </tr>\n",
       "    <tr>\n",
       "      <th>...</th>\n",
       "      <td>...</td>\n",
       "      <td>...</td>\n",
       "    </tr>\n",
       "    <tr>\n",
       "      <th>61613</th>\n",
       "      <td>10199.195312</td>\n",
       "      <td>0.668002</td>\n",
       "    </tr>\n",
       "    <tr>\n",
       "      <th>61614</th>\n",
       "      <td>10199.363281</td>\n",
       "      <td>0.668370</td>\n",
       "    </tr>\n",
       "    <tr>\n",
       "      <th>61615</th>\n",
       "      <td>10199.541992</td>\n",
       "      <td>0.668370</td>\n",
       "    </tr>\n",
       "    <tr>\n",
       "      <th>61616</th>\n",
       "      <td>10199.709961</td>\n",
       "      <td>0.668370</td>\n",
       "    </tr>\n",
       "    <tr>\n",
       "      <th>61617</th>\n",
       "      <td>10199.877930</td>\n",
       "      <td>0.668370</td>\n",
       "    </tr>\n",
       "  </tbody>\n",
       "</table>\n",
       "<p>61618 rows × 2 columns</p>\n",
       "</div>"
      ],
      "text/plain": [
       "         wavelength      flux\n",
       "0       3650.049561  1.114537\n",
       "1       3650.109863  1.114537\n",
       "2       3650.171875  1.114537\n",
       "3       3650.231934  1.105282\n",
       "4       3650.292236  1.096027\n",
       "...             ...       ...\n",
       "61613  10199.195312  0.668002\n",
       "61614  10199.363281  0.668370\n",
       "61615  10199.541992  0.668370\n",
       "61616  10199.709961  0.668370\n",
       "61617  10199.877930  0.668370\n",
       "\n",
       "[61618 rows x 2 columns]"
      ]
     },
     "execution_count": 12,
     "metadata": {},
     "output_type": "execute_result"
    }
   ],
   "source": []
  },
  {
   "cell_type": "code",
   "execution_count": 9,
   "metadata": {},
   "outputs": [
    {
     "data": {
      "image/png": "[encoded data removed]",
      "text/plain": [
       "<Figure size 432x288 with 1 Axes>"
      ]
     },
     "metadata": {
      "needs_background": "light"
     },
     "output_type": "display_data"
    }
   ],
   "source": [
    "#raw data\n",
    "from matplotlib.collections import LineCollection\n",
    "from matplotlib.colors import ListedColormap, BoundaryNorm\n",
    "fig, ax = plt.subplots()\n",
    "x,y = spec['wavelength'], spec['flux']\n",
    "ax.set_xlim(x.min(), x.max())\n",
    "ax.set_ylim(y.min(), y.max())\n",
    "points = np.array([x, y]).T.reshape(-1, 1, 2)\n",
    "segments = np.concatenate([points[:-1], points[1:]], axis=1)\n",
    "# Create a continuous norm to map from data points to colors\n",
    "norm = plt.Normalize(x.min(), x.max())\n",
    "lc = LineCollection(segments, cmap='rainbow', norm=norm)\n",
    "lc.set_array(x)\n",
    "ax.add_collection(lc)\n",
    "ax.set_title('Raw Spectrum')\n",
    "plt.show()"
   ]
  },
  {
   "cell_type": "code",
   "execution_count": 18,
   "metadata": {},
   "outputs": [],
   "source": [
    "preproc_spec = spectra_preproc(spec, bins=np.arange(3690,10000,20))"
   ]
  },
  {
   "cell_type": "code",
   "execution_count": 19,
   "metadata": {},
   "outputs": [
    {
     "data": {
      "image/png": "[encoded data removed]",
      "text/plain": [
       "<Figure size 432x288 with 1 Axes>"
      ]
     },
     "metadata": {
      "needs_background": "light"
     },
     "output_type": "display_data"
    }
   ],
   "source": [
    "#preprocessed\n",
    "from matplotlib.collections import LineCollection\n",
    "from matplotlib.colors import ListedColormap, BoundaryNorm\n",
    "fig, ax = plt.subplots()\n",
    "x,y = preproc_spec['Wavelength'], preproc_spec['Flux']\n",
    "ax.set_xlim(3500, 10100)\n",
    "ax.set_ylim(np.nanmin(y)-0.5*np.nanstd(y), np.nanmax(y)+0.5*np.nanstd(y))\n",
    "points = np.array([x, y]).T.reshape(-1, 1, 2)\n",
    "segments = np.concatenate([points[:-1], points[1:]], axis=1)\n",
    "# Create a continuous norm to map from data points to colors\n",
    "norm = plt.Normalize(x.min(), x.max())\n",
    "lc = LineCollection(segments, cmap='rainbow', norm=norm)\n",
    "lc.set_array(x)\n",
    "ax.add_collection(lc)\n",
    "ax.set_title('Preprocessed (and trimmed) Spectrum')\n",
    "plt.show()"
   ]
  },
  {
   "cell_type": "code",
   "execution_count": 20,
   "metadata": {},
   "outputs": [
    {
     "data": {
      "text/plain": [
       "37.05882352941177"
      ]
     },
     "execution_count": 20,
     "metadata": {},
     "output_type": "execute_result"
    }
   ],
   "source": [
    "len(preproc_spec) / 8.5"
   ]
  },
  {
   "cell_type": "code",
   "execution_count": 21,
   "metadata": {},
   "outputs": [],
   "source": [
    "#create output directory\n",
    "outdir = 'preproc/{}/'.format(n)\n",
    "if not os.path.exists(outdir):\n",
    "    os.makedirs(outdir)   "
   ]
  },
  {
   "cell_type": "code",
   "execution_count": 22,
   "metadata": {},
   "outputs": [],
   "source": [
    "preproc_spec.to_csv(\"preproc/{}/{}_spec.csv\".format(n,n), index=False)"
   ]
  },
  {
   "cell_type": "code",
   "execution_count": null,
   "metadata": {},
   "outputs": [],
   "source": []
  }
 ],
 "metadata": {
  "interpreter": {
   "hash": "5f3979f5fb0a7cd5351c468c5e75b120f91fe672b656705a2b0b002be69a10a3"
  },
  "kernelspec": {
   "display_name": "Python 3.6.13 64-bit ('base': conda)",
   "language": "python",
   "name": "python3"
  },
  "language_info": {
   "codemirror_mode": {
    "name": "ipython",
    "version": 3
   },
   "file_extension": ".py",
   "mimetype": "text/x-python",
   "name": "python",
   "nbconvert_exporter": "python",
   "pygments_lexer": "ipython3",
   "version": "3.6.13"
  },
  "orig_nbformat": 4
 },
 "nbformat": 4,
 "nbformat_minor": 2
}
